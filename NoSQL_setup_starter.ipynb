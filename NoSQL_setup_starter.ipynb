{
 "cells": [
  {
   "cell_type": "markdown",
   "id": "9a57c4c6",
   "metadata": {},
   "source": [
    "# Eat Safe, Love"
   ]
  },
  {
   "cell_type": "markdown",
   "id": "064ef857",
   "metadata": {},
   "source": [
    "## Part 1: Database and Jupyter Notebook Set Up"
   ]
  },
  {
   "cell_type": "markdown",
   "id": "664e3c1f",
   "metadata": {},
   "source": [
    "Import the data provided in the `establishments.json` file from your Terminal. Name the database `uk_food` and the collection `establishments`.\n",
    "\n",
    "Within this markdown cell, copy the line of text you used to import the data from your Terminal. This way, future analysts will be able to repeat your process.\n",
    "\n",
    "e.g.: Import the dataset with `YOUR IMPORT TEXT HERE`"
   ]
  },
  {
   "cell_type": "code",
   "execution_count": 2,
   "id": "3ecdd008",
   "metadata": {},
   "outputs": [],
   "source": [
    "# Import dependencies\n",
    "from pymongo import MongoClient\n",
    "from pprint import pprint"
   ]
  },
  {
   "cell_type": "code",
   "execution_count": 3,
   "id": "59390c4a",
   "metadata": {},
   "outputs": [],
   "source": [
    "# Create an instance of MongoClient\n",
    "mongo = MongoClient(port=27017)"
   ]
  },
  {
   "cell_type": "code",
   "execution_count": 4,
   "id": "7f9ececa",
   "metadata": {},
   "outputs": [],
   "source": [
    "# confirm that our new database was created\n",
    "import json\n",
    "\n",
    "with open('./Resources/establishments.json') as json_file:\n",
    "    uk_food = json.load(json_file)\n",
    "#uk_food"
   ]
  },
  {
   "cell_type": "code",
   "execution_count": 5,
   "id": "71e373c1",
   "metadata": {},
   "outputs": [],
   "source": [
    "# assign the uk_food database to a variable name\n",
    "db = mongo['uk_food']"
   ]
  },
  {
   "cell_type": "code",
   "execution_count": 6,
   "id": "ef1b89ed",
   "metadata": {},
   "outputs": [
    {
     "data": {
      "text/plain": [
       "['establishments']"
      ]
     },
     "execution_count": 6,
     "metadata": {},
     "output_type": "execute_result"
    }
   ],
   "source": [
    "# review the collections in our new database\n",
    "db.list_collection_names()"
   ]
  },
  {
   "cell_type": "code",
   "execution_count": 7,
   "id": "6a0d92df",
   "metadata": {},
   "outputs": [
    {
     "data": {
      "text/plain": [
       "{'_id': ObjectId('648beda50defc7837b171bba'),\n",
       " 'FHRSID': 1043695,\n",
       " 'ChangesByServerID': 0,\n",
       " 'LocalAuthorityBusinessID': 'PI/000073616',\n",
       " 'BusinessName': 'The Pavilion',\n",
       " 'BusinessType': 'Restaurant/Cafe/Canteen',\n",
       " 'BusinessTypeID': 1,\n",
       " 'AddressLine1': 'East Cliff Pavilion',\n",
       " 'AddressLine2': 'Wear Bay Road',\n",
       " 'AddressLine3': 'Folkestone',\n",
       " 'AddressLine4': 'Kent',\n",
       " 'PostCode': 'CT19 6BL',\n",
       " 'Phone': '',\n",
       " 'RatingValue': 5,\n",
       " 'RatingKey': 'fhrs_5_en-gb',\n",
       " 'RatingDate': '2018-04-04T00:00:00',\n",
       " 'LocalAuthorityCode': '188',\n",
       " 'LocalAuthorityName': 'Folkestone and Hythe',\n",
       " 'LocalAuthorityWebSite': 'http://www.folkestone-hythe.gov.uk',\n",
       " 'LocalAuthorityEmailAddress': 'foodteam@folkestone-hythe.gov.uk',\n",
       " 'scores': {'Hygiene': 5, 'Structural': 5, 'ConfidenceInManagement': 5},\n",
       " 'SchemeType': 'FHRS',\n",
       " 'geocode': {'longitude': '1.195625', 'latitude': '51.083812'},\n",
       " 'RightToReply': '',\n",
       " 'Distance': 4591.765489457773,\n",
       " 'NewRatingPending': False,\n",
       " 'meta': {'dataSource': None,\n",
       "  'extractDate': '0001-01-01T00:00:00',\n",
       "  'itemCount': 0,\n",
       "  'returncode': None,\n",
       "  'totalCount': 0,\n",
       "  'totalPages': 0,\n",
       "  'pageSize': 0,\n",
       "  'pageNumber': 0},\n",
       " 'links': [{'rel': 'self',\n",
       "   'href': 'https://api.ratings.food.gov.uk/establishments/1043695'}],\n",
       " 'latitude': None,\n",
       " 'longitude': None}"
      ]
     },
     "execution_count": 7,
     "metadata": {},
     "output_type": "execute_result"
    }
   ],
   "source": [
    "# review a document in the establishments collection\n",
    "db['establishments'].find_one()"
   ]
  },
  {
   "cell_type": "code",
   "execution_count": 7,
   "id": "11c9f11b",
   "metadata": {},
   "outputs": [
    {
     "data": {
      "text/plain": [
       "Collection(Database(MongoClient(host=['localhost:27017'], document_class=dict, tz_aware=False, connect=True), 'uk_food'), 'establishments')"
      ]
     },
     "execution_count": 7,
     "metadata": {},
     "output_type": "execute_result"
    }
   ],
   "source": [
    "# assign the collection to a variable\n",
    "establishments = db['establishments']\n",
    "establishments"
   ]
  },
  {
   "cell_type": "markdown",
   "id": "d5671434",
   "metadata": {},
   "source": [
    "## Part 2: Update the Database"
   ]
  },
  {
   "cell_type": "markdown",
   "id": "314bd884",
   "metadata": {},
   "source": [
    "1. An exciting new halal restaurant just opened in Greenwich, but hasn't been rated yet. The magazine has asked you to include it in your analysis. Add the following restaurant \"Penang Flavours\" to the database."
   ]
  },
  {
   "cell_type": "code",
   "execution_count": 70,
   "id": "c2da7648",
   "metadata": {},
   "outputs": [],
   "source": [
    "# Create a dictionary for the new restaurant data\n",
    "d = {'Restaurant': 'Penang Flavours', 'Owner': 'Sirius Black', 'RatingValue': '5','BusinessTypeID':1,'BusinessName':'Penang Flavours'}"
   ]
  },
  {
   "cell_type": "code",
   "execution_count": 71,
   "id": "a6e5cece",
   "metadata": {},
   "outputs": [],
   "source": [
    "# Insert the new restaurant into the collection\n",
    "x = establishments.insert_one(d)"
   ]
  },
  {
   "cell_type": "code",
   "execution_count": 73,
   "id": "63bb10f9",
   "metadata": {},
   "outputs": [
    {
     "name": "stdout",
     "output_type": "stream",
     "text": [
      "Document inserted with id:  648e6bd20889953925f89e0a\n"
     ]
    }
   ],
   "source": [
    "# Check that the new restaurant was inserted\n",
    "print(\"Document inserted with id: \", x.inserted_id)"
   ]
  },
  {
   "cell_type": "markdown",
   "id": "0ef4395a",
   "metadata": {},
   "source": [
    "2. Find the BusinessTypeID for \"Restaurant/Cafe/Canteen\" and return only the `BusinessTypeID` and `BusinessType` fields."
   ]
  },
  {
   "cell_type": "code",
   "execution_count": 74,
   "id": "93c63829",
   "metadata": {},
   "outputs": [
    {
     "name": "stdout",
     "output_type": "stream",
     "text": [
      "{'_id': ObjectId('648beda50defc7837b1718d7'), 'BusinessTypeID': 1, 'BusinessType': 'Restaurant/Cafe/Canteen'}\n",
      "{'_id': ObjectId('648beda50defc7837b1718d8'), 'BusinessTypeID': 1, 'BusinessType': 'Restaurant/Cafe/Canteen'}\n",
      "{'_id': ObjectId('648beda50defc7837b1718d9'), 'BusinessTypeID': 1, 'BusinessType': 'Restaurant/Cafe/Canteen'}\n",
      "{'_id': ObjectId('648beda50defc7837b1718da'), 'BusinessTypeID': 7842, 'BusinessType': 'Restaurant/Cafe/Canteen'}\n",
      "{'_id': ObjectId('648beda50defc7837b1718db'), 'BusinessTypeID': 1, 'BusinessType': 'Restaurant/Cafe/Canteen'}\n",
      "{'_id': ObjectId('648beda50defc7837b1718dc'), 'BusinessTypeID': 1, 'BusinessType': 'Restaurant/Cafe/Canteen'}\n",
      "{'_id': ObjectId('648beda50defc7837b1718dd'), 'BusinessTypeID': 1, 'BusinessType': 'Restaurant/Cafe/Canteen'}\n",
      "{'_id': ObjectId('648beda50defc7837b1718de'), 'BusinessTypeID': 1, 'BusinessType': 'Restaurant/Cafe/Canteen'}\n",
      "{'_id': ObjectId('648beda50defc7837b1718df'), 'BusinessTypeID': 7843, 'BusinessType': 'Restaurant/Cafe/Canteen'}\n",
      "{'_id': ObjectId('648beda50defc7837b1718e0'), 'BusinessTypeID': 7843, 'BusinessType': 'Restaurant/Cafe/Canteen'}\n",
      "{'_id': ObjectId('648beda50defc7837b1718e1'), 'BusinessTypeID': 7845, 'BusinessType': 'Restaurant/Cafe/Canteen'}\n",
      "{'_id': ObjectId('648beda50defc7837b1718e2'), 'BusinessTypeID': 1, 'BusinessType': 'Restaurant/Cafe/Canteen'}\n",
      "{'_id': ObjectId('648beda50defc7837b1718e3'), 'BusinessTypeID': 5, 'BusinessType': 'Restaurant/Cafe/Canteen'}\n",
      "{'_id': ObjectId('648beda50defc7837b1718e4'), 'BusinessTypeID': 4613, 'BusinessType': 'Restaurant/Cafe/Canteen'}\n",
      "{'_id': ObjectId('648beda50defc7837b1718e5'), 'BusinessTypeID': 7845, 'BusinessType': 'Restaurant/Cafe/Canteen'}\n",
      "{'_id': ObjectId('648beda50defc7837b1718e6'), 'BusinessTypeID': 1, 'BusinessType': 'Restaurant/Cafe/Canteen'}\n",
      "{'_id': ObjectId('648beda50defc7837b1718e7'), 'BusinessTypeID': 7841, 'BusinessType': 'Restaurant/Cafe/Canteen'}\n",
      "{'_id': ObjectId('648beda50defc7837b1718e8'), 'BusinessTypeID': 7843, 'BusinessType': 'Restaurant/Cafe/Canteen'}\n",
      "{'_id': ObjectId('648beda50defc7837b1718e9'), 'BusinessTypeID': 1, 'BusinessType': 'Restaurant/Cafe/Canteen'}\n",
      "{'_id': ObjectId('648beda50defc7837b1718ea'), 'BusinessTypeID': 1, 'BusinessType': 'Restaurant/Cafe/Canteen'}\n",
      "{'_id': ObjectId('648beda50defc7837b1718eb'), 'BusinessTypeID': 7846, 'BusinessType': 'Restaurant/Cafe/Canteen'}\n",
      "{'_id': ObjectId('648beda50defc7837b1718ec'), 'BusinessTypeID': 7843, 'BusinessType': 'Restaurant/Cafe/Canteen'}\n",
      "{'_id': ObjectId('648beda50defc7837b1718ed'), 'BusinessTypeID': 1, 'BusinessType': 'Restaurant/Cafe/Canteen'}\n",
      "{'_id': ObjectId('648beda50defc7837b1718ee'), 'BusinessTypeID': 7843, 'BusinessType': 'Restaurant/Cafe/Canteen'}\n",
      "{'_id': ObjectId('648beda50defc7837b1718ef'), 'BusinessTypeID': 7843, 'BusinessType': 'Restaurant/Cafe/Canteen'}\n",
      "{'_id': ObjectId('648beda50defc7837b1718f0'), 'BusinessTypeID': 7839, 'BusinessType': 'Restaurant/Cafe/Canteen'}\n",
      "{'_id': ObjectId('648beda50defc7837b1718f1'), 'BusinessTypeID': 5, 'BusinessType': 'Restaurant/Cafe/Canteen'}\n",
      "{'_id': ObjectId('648beda50defc7837b1718f2'), 'BusinessTypeID': 7843, 'BusinessType': 'Restaurant/Cafe/Canteen'}\n",
      "{'_id': ObjectId('648beda50defc7837b1718f3'), 'BusinessTypeID': 4613, 'BusinessType': 'Restaurant/Cafe/Canteen'}\n",
      "{'_id': ObjectId('648beda50defc7837b1718f4'), 'BusinessTypeID': 1, 'BusinessType': 'Restaurant/Cafe/Canteen'}\n",
      "{'_id': ObjectId('648beda50defc7837b1718f5'), 'BusinessTypeID': 7845, 'BusinessType': 'Restaurant/Cafe/Canteen'}\n",
      "{'_id': ObjectId('648beda50defc7837b1718f6'), 'BusinessTypeID': 5, 'BusinessType': 'Restaurant/Cafe/Canteen'}\n",
      "{'_id': ObjectId('648beda50defc7837b1718f7'), 'BusinessTypeID': 4613, 'BusinessType': 'Restaurant/Cafe/Canteen'}\n",
      "{'_id': ObjectId('648beda50defc7837b1718f8'), 'BusinessTypeID': 1, 'BusinessType': 'Restaurant/Cafe/Canteen'}\n",
      "{'_id': ObjectId('648beda50defc7837b1718f9'), 'BusinessTypeID': 7841, 'BusinessType': 'Restaurant/Cafe/Canteen'}\n",
      "{'_id': ObjectId('648beda50defc7837b1718fa'), 'BusinessTypeID': 7841, 'BusinessType': 'Restaurant/Cafe/Canteen'}\n",
      "{'_id': ObjectId('648beda50defc7837b1718fb'), 'BusinessTypeID': 7845, 'BusinessType': 'Restaurant/Cafe/Canteen'}\n",
      "{'_id': ObjectId('648beda50defc7837b1718fc'), 'BusinessTypeID': 7841, 'BusinessType': 'Restaurant/Cafe/Canteen'}\n",
      "{'_id': ObjectId('648beda50defc7837b1718fd'), 'BusinessTypeID': 7841, 'BusinessType': 'Restaurant/Cafe/Canteen'}\n",
      "{'_id': ObjectId('648beda50defc7837b1718fe'), 'BusinessTypeID': 1, 'BusinessType': 'Restaurant/Cafe/Canteen'}\n",
      "{'_id': ObjectId('648beda50defc7837b1718ff'), 'BusinessTypeID': 7841, 'BusinessType': 'Restaurant/Cafe/Canteen'}\n",
      "{'_id': ObjectId('648beda50defc7837b171900'), 'BusinessTypeID': 7841, 'BusinessType': 'Restaurant/Cafe/Canteen'}\n",
      "{'_id': ObjectId('648beda50defc7837b171901'), 'BusinessTypeID': 7841, 'BusinessType': 'Restaurant/Cafe/Canteen'}\n",
      "{'_id': ObjectId('648beda50defc7837b171902'), 'BusinessTypeID': 7842, 'BusinessType': 'Restaurant/Cafe/Canteen'}\n",
      "{'_id': ObjectId('648beda50defc7837b171903'), 'BusinessTypeID': 7841, 'BusinessType': 'Restaurant/Cafe/Canteen'}\n",
      "{'_id': ObjectId('648beda50defc7837b171904'), 'BusinessTypeID': 7, 'BusinessType': 'Restaurant/Cafe/Canteen'}\n",
      "{'_id': ObjectId('648beda50defc7837b171905'), 'BusinessTypeID': 5, 'BusinessType': 'Restaurant/Cafe/Canteen'}\n",
      "{'_id': ObjectId('648beda50defc7837b171906'), 'BusinessTypeID': 7842, 'BusinessType': 'Restaurant/Cafe/Canteen'}\n",
      "{'_id': ObjectId('648beda50defc7837b171907'), 'BusinessTypeID': 1, 'BusinessType': 'Restaurant/Cafe/Canteen'}\n",
      "{'_id': ObjectId('648beda50defc7837b171908'), 'BusinessTypeID': 4613, 'BusinessType': 'Restaurant/Cafe/Canteen'}\n",
      "{'_id': ObjectId('648beda50defc7837b171909'), 'BusinessTypeID': 7843, 'BusinessType': 'Restaurant/Cafe/Canteen'}\n",
      "{'_id': ObjectId('648beda50defc7837b17190a'), 'BusinessTypeID': 7844, 'BusinessType': 'Restaurant/Cafe/Canteen'}\n",
      "{'_id': ObjectId('648beda50defc7837b17190b'), 'BusinessTypeID': 1, 'BusinessType': 'Restaurant/Cafe/Canteen'}\n",
      "{'_id': ObjectId('648beda50defc7837b17190c'), 'BusinessTypeID': 1, 'BusinessType': 'Restaurant/Cafe/Canteen'}\n",
      "{'_id': ObjectId('648beda50defc7837b17190d'), 'BusinessTypeID': 1, 'BusinessType': 'Restaurant/Cafe/Canteen'}\n",
      "{'_id': ObjectId('648beda50defc7837b17190e'), 'BusinessTypeID': 7846, 'BusinessType': 'Restaurant/Cafe/Canteen'}\n",
      "{'_id': ObjectId('648beda50defc7837b17190f'), 'BusinessTypeID': 5, 'BusinessType': 'Restaurant/Cafe/Canteen'}\n",
      "{'_id': ObjectId('648beda50defc7837b171910'), 'BusinessTypeID': 5, 'BusinessType': 'Restaurant/Cafe/Canteen'}\n",
      "{'_id': ObjectId('648beda50defc7837b171911'), 'BusinessTypeID': 7844, 'BusinessType': 'Restaurant/Cafe/Canteen'}\n",
      "{'_id': ObjectId('648beda50defc7837b171912'), 'BusinessTypeID': 1, 'BusinessType': 'Restaurant/Cafe/Canteen'}\n",
      "{'_id': ObjectId('648beda50defc7837b171913'), 'BusinessTypeID': 1, 'BusinessType': 'Restaurant/Cafe/Canteen'}\n",
      "{'_id': ObjectId('648beda50defc7837b171914'), 'BusinessTypeID': 1, 'BusinessType': 'Restaurant/Cafe/Canteen'}\n",
      "{'_id': ObjectId('648beda50defc7837b171915'), 'BusinessTypeID': 1, 'BusinessType': 'Restaurant/Cafe/Canteen'}\n",
      "{'_id': ObjectId('648beda50defc7837b171916'), 'BusinessTypeID': 7846, 'BusinessType': 'Restaurant/Cafe/Canteen'}\n",
      "{'_id': ObjectId('648beda50defc7837b171917'), 'BusinessTypeID': 1, 'BusinessType': 'Restaurant/Cafe/Canteen'}\n",
      "{'_id': ObjectId('648beda50defc7837b171918'), 'BusinessTypeID': 7843, 'BusinessType': 'Restaurant/Cafe/Canteen'}\n",
      "{'_id': ObjectId('648beda50defc7837b171919'), 'BusinessTypeID': 7842, 'BusinessType': 'Restaurant/Cafe/Canteen'}\n",
      "{'_id': ObjectId('648beda50defc7837b17191a'), 'BusinessTypeID': 7842, 'BusinessType': 'Restaurant/Cafe/Canteen'}\n",
      "{'_id': ObjectId('648beda50defc7837b17191b'), 'BusinessTypeID': 1, 'BusinessType': 'Restaurant/Cafe/Canteen'}\n",
      "{'_id': ObjectId('648beda50defc7837b17191c'), 'BusinessTypeID': 1, 'BusinessType': 'Restaurant/Cafe/Canteen'}\n",
      "{'_id': ObjectId('648beda50defc7837b17191d'), 'BusinessTypeID': 1, 'BusinessType': 'Restaurant/Cafe/Canteen'}\n",
      "{'_id': ObjectId('648beda50defc7837b17191e'), 'BusinessTypeID': 5, 'BusinessType': 'Restaurant/Cafe/Canteen'}\n",
      "{'_id': ObjectId('648beda50defc7837b17191f'), 'BusinessTypeID': 5, 'BusinessType': 'Restaurant/Cafe/Canteen'}\n",
      "{'_id': ObjectId('648beda50defc7837b171920'), 'BusinessTypeID': 7843, 'BusinessType': 'Restaurant/Cafe/Canteen'}\n",
      "{'_id': ObjectId('648beda50defc7837b171921'), 'BusinessTypeID': 4613, 'BusinessType': 'Restaurant/Cafe/Canteen'}\n",
      "{'_id': ObjectId('648beda50defc7837b171922'), 'BusinessTypeID': 7843, 'BusinessType': 'Restaurant/Cafe/Canteen'}\n",
      "{'_id': ObjectId('648beda50defc7837b171923'), 'BusinessTypeID': 1, 'BusinessType': 'Restaurant/Cafe/Canteen'}\n",
      "{'_id': ObjectId('648beda50defc7837b171924'), 'BusinessTypeID': 1, 'BusinessType': 'Restaurant/Cafe/Canteen'}\n",
      "{'_id': ObjectId('648beda50defc7837b171925'), 'BusinessTypeID': 1, 'BusinessType': 'Restaurant/Cafe/Canteen'}\n",
      "{'_id': ObjectId('648beda50defc7837b171926'), 'BusinessTypeID': 7844, 'BusinessType': 'Restaurant/Cafe/Canteen'}\n",
      "{'_id': ObjectId('648beda50defc7837b171927'), 'BusinessTypeID': 1, 'BusinessType': 'Restaurant/Cafe/Canteen'}\n",
      "{'_id': ObjectId('648beda50defc7837b171928'), 'BusinessTypeID': 4613, 'BusinessType': 'Restaurant/Cafe/Canteen'}\n",
      "{'_id': ObjectId('648beda50defc7837b171929'), 'BusinessTypeID': 4613, 'BusinessType': 'Restaurant/Cafe/Canteen'}\n",
      "{'_id': ObjectId('648beda50defc7837b17192a'), 'BusinessTypeID': 1, 'BusinessType': 'Restaurant/Cafe/Canteen'}\n",
      "{'_id': ObjectId('648beda50defc7837b17192b'), 'BusinessTypeID': 1, 'BusinessType': 'Restaurant/Cafe/Canteen'}\n",
      "{'_id': ObjectId('648beda50defc7837b17192c'), 'BusinessTypeID': 7842, 'BusinessType': 'Restaurant/Cafe/Canteen'}\n",
      "{'_id': ObjectId('648beda50defc7837b17192d'), 'BusinessTypeID': 1, 'BusinessType': 'Restaurant/Cafe/Canteen'}\n",
      "{'_id': ObjectId('648beda50defc7837b17192e'), 'BusinessTypeID': 7842, 'BusinessType': 'Restaurant/Cafe/Canteen'}\n",
      "{'_id': ObjectId('648beda50defc7837b17192f'), 'BusinessTypeID': 5, 'BusinessType': 'Restaurant/Cafe/Canteen'}\n",
      "{'_id': ObjectId('648beda50defc7837b171930'), 'BusinessTypeID': 5, 'BusinessType': 'Restaurant/Cafe/Canteen'}\n",
      "{'_id': ObjectId('648beda50defc7837b171931'), 'BusinessTypeID': 7843, 'BusinessType': 'Restaurant/Cafe/Canteen'}\n",
      "{'_id': ObjectId('648beda50defc7837b171932'), 'BusinessTypeID': 7842, 'BusinessType': 'Restaurant/Cafe/Canteen'}\n",
      "{'_id': ObjectId('648beda50defc7837b171933'), 'BusinessTypeID': 1, 'BusinessType': 'Restaurant/Cafe/Canteen'}\n",
      "{'_id': ObjectId('648beda50defc7837b171934'), 'BusinessTypeID': 4613, 'BusinessType': 'Restaurant/Cafe/Canteen'}\n",
      "{'_id': ObjectId('648beda50defc7837b171935'), 'BusinessTypeID': 7843, 'BusinessType': 'Restaurant/Cafe/Canteen'}\n",
      "{'_id': ObjectId('648beda50defc7837b171936'), 'BusinessTypeID': 4613, 'BusinessType': 'Restaurant/Cafe/Canteen'}\n",
      "{'_id': ObjectId('648beda50defc7837b171937'), 'BusinessTypeID': 1, 'BusinessType': 'Restaurant/Cafe/Canteen'}\n",
      "{'_id': ObjectId('648beda50defc7837b171938'), 'BusinessTypeID': 7845, 'BusinessType': 'Restaurant/Cafe/Canteen'}\n",
      "{'_id': ObjectId('648beda50defc7837b171939'), 'BusinessTypeID': 7846, 'BusinessType': 'Restaurant/Cafe/Canteen'}\n",
      "{'_id': ObjectId('648beda50defc7837b17193a'), 'BusinessTypeID': 7843, 'BusinessType': 'Restaurant/Cafe/Canteen'}\n",
      "{'_id': ObjectId('648beda50defc7837b17193b'), 'BusinessTypeID': 7843, 'BusinessType': 'Restaurant/Cafe/Canteen'}\n"
     ]
    },
    {
     "name": "stderr",
     "output_type": "stream",
     "text": [
      "IOPub data rate exceeded.\n",
      "The notebook server will temporarily stop sending output\n",
      "to the client in order to avoid crashing it.\n",
      "To change this limit, set the config variable\n",
      "`--NotebookApp.iopub_data_rate_limit`.\n",
      "\n",
      "Current values:\n",
      "NotebookApp.iopub_data_rate_limit=1000000.0 (bytes/sec)\n",
      "NotebookApp.rate_limit_window=3.0 (secs)\n",
      "\n"
     ]
    }
   ],
   "source": [
    "# Find the BusinessTypeID for \"Restaurant/Cafe/Canteen\" and return only the BusinessTypeID and BusinessType fields\n",
    "query = {}\n",
    "fields = {'BusinessTypeID':1, 'BusinessType':'Restaurant/Cafe/Canteen'}\n",
    "\n",
    "results = establishments.find(query, fields)\n",
    "\n",
    "for x in results:\n",
    "    print(x)"
   ]
  },
  {
   "cell_type": "markdown",
   "id": "4e570caf",
   "metadata": {},
   "source": [
    "3. Update the new restaurant with the `BusinessTypeID` you found."
   ]
  },
  {
   "cell_type": "code",
   "execution_count": 82,
   "id": "7f599f3d",
   "metadata": {
    "scrolled": true
   },
   "outputs": [
    {
     "data": {
      "text/plain": [
       "<pymongo.results.UpdateResult at 0x7fc568d8f7c0>"
      ]
     },
     "execution_count": 82,
     "metadata": {},
     "output_type": "execute_result"
    }
   ],
   "source": [
    "# Update the new restaurant with the correct BusinessTypeID \n",
    "\n",
    "db.establishments.update_one({'_id' : {'$eq':'648e6bd20889953925f89e0a'}} , {'$set' : {'BusinessTypeID':1,'BusinessName':'Penang Flavours'} })"
   ]
  },
  {
   "cell_type": "code",
   "execution_count": 85,
   "id": "a6ad16f7",
   "metadata": {},
   "outputs": [
    {
     "name": "stdout",
     "output_type": "stream",
     "text": [
      "{'_id': ObjectId('648e6bd20889953925f89e0a'), 'Restaurant': 'Penang Flavours', 'Owner': 'Sirius Black', 'RatingValue': '5', 'BusinessTypeID': 1, 'BusinessName': 'Penang Flavours'}\n"
     ]
    }
   ],
   "source": [
    "# Confirm that the new restaurant was updated\n",
    "query = {'BusinessName':'Penang Flavours'}\n",
    "results = establishments.find(query)\n",
    "\n",
    "for x in results:\n",
    "    print(x)"
   ]
  },
  {
   "cell_type": "markdown",
   "id": "67281254",
   "metadata": {},
   "source": [
    "4. The magazine is not interested in any establishments in Dover, so check how many documents contain the Dover Local Authority. Then, remove any establishments within the Dover Local Authority from the database, and check the number of documents to ensure they were deleted."
   ]
  },
  {
   "cell_type": "code",
   "execution_count": 89,
   "id": "768474a6",
   "metadata": {},
   "outputs": [
    {
     "data": {
      "text/plain": [
       "994"
      ]
     },
     "execution_count": 89,
     "metadata": {},
     "output_type": "execute_result"
    }
   ],
   "source": [
    "# Find how many documents have LocalAuthorityName as \"Dover\"\n",
    "\n",
    "query = {'LocalAuthorityName':'Dover'}\n",
    "#results = establishments.find(query)\n",
    "\n",
    "establishments.count_documents(query)\n",
    "\n"
   ]
  },
  {
   "cell_type": "code",
   "execution_count": 92,
   "id": "a11d5f1b",
   "metadata": {},
   "outputs": [
    {
     "data": {
      "text/plain": [
       "<pymongo.results.DeleteResult at 0x7fc5682f2cd0>"
      ]
     },
     "execution_count": 92,
     "metadata": {},
     "output_type": "execute_result"
    }
   ],
   "source": [
    "# Delete all documents where LocalAuthorityName is \"Dover\"\n",
    "\n",
    "establishments.delete_many( { 'LocalAuthorityName': \"Dover\" } )"
   ]
  },
  {
   "cell_type": "code",
   "execution_count": 93,
   "id": "2a51aba0",
   "metadata": {},
   "outputs": [
    {
     "data": {
      "text/plain": [
       "0"
      ]
     },
     "execution_count": 93,
     "metadata": {},
     "output_type": "execute_result"
    }
   ],
   "source": [
    "# Check if any remaining documents include Dover\n",
    "query = {'LocalAuthorityName':'Dover'}\n",
    "#results = establishments.find(query)\n",
    "\n",
    "establishments.count_documents(query)"
   ]
  },
  {
   "cell_type": "code",
   "execution_count": 94,
   "id": "8c356f7b",
   "metadata": {},
   "outputs": [
    {
     "name": "stdout",
     "output_type": "stream",
     "text": [
      "{'AddressLine1': 'East Cliff Pavilion',\n",
      " 'AddressLine2': 'Wear Bay Road',\n",
      " 'AddressLine3': 'Folkestone',\n",
      " 'AddressLine4': 'Kent',\n",
      " 'BusinessName': 'The Pavilion',\n",
      " 'BusinessType': 'Restaurant/Cafe/Canteen',\n",
      " 'BusinessTypeID': 1,\n",
      " 'ChangesByServerID': 0,\n",
      " 'Distance': 4591.765489457773,\n",
      " 'FHRSID': 1043695,\n",
      " 'LocalAuthorityBusinessID': 'PI/000073616',\n",
      " 'LocalAuthorityCode': '188',\n",
      " 'LocalAuthorityEmailAddress': 'foodteam@folkestone-hythe.gov.uk',\n",
      " 'LocalAuthorityName': 'Folkestone and Hythe',\n",
      " 'LocalAuthorityWebSite': 'http://www.folkestone-hythe.gov.uk',\n",
      " 'NewRatingPending': False,\n",
      " 'Phone': '',\n",
      " 'PostCode': 'CT19 6BL',\n",
      " 'RatingDate': '2018-04-04T00:00:00',\n",
      " 'RatingKey': 'fhrs_5_en-gb',\n",
      " 'RatingValue': '5',\n",
      " 'RightToReply': '',\n",
      " 'SchemeType': 'FHRS',\n",
      " '_id': ObjectId('648beda50defc7837b171bba'),\n",
      " 'geocode': {'latitude': '51.083812', 'longitude': '1.195625'},\n",
      " 'links': [{'href': 'https://api.ratings.food.gov.uk/establishments/1043695',\n",
      "            'rel': 'self'}],\n",
      " 'meta': {'dataSource': None,\n",
      "          'extractDate': '0001-01-01T00:00:00',\n",
      "          'itemCount': 0,\n",
      "          'pageNumber': 0,\n",
      "          'pageSize': 0,\n",
      "          'returncode': None,\n",
      "          'totalCount': 0,\n",
      "          'totalPages': 0},\n",
      " 'scores': {'ConfidenceInManagement': 5, 'Hygiene': 5, 'Structural': 5}}\n"
     ]
    }
   ],
   "source": [
    "# Check that other documents remain with 'find_one'\n",
    "pprint(establishments.find_one({}))"
   ]
  },
  {
   "cell_type": "markdown",
   "id": "e9f1662d",
   "metadata": {},
   "source": [
    "5. Some of the number values are stored as strings, when they should be stored as numbers."
   ]
  },
  {
   "cell_type": "markdown",
   "id": "c46df2df",
   "metadata": {},
   "source": [
    "Use `update_many` to convert `latitude` and `longitude` to decimal numbers."
   ]
  },
  {
   "cell_type": "code",
   "execution_count": 95,
   "id": "fd4112ce",
   "metadata": {},
   "outputs": [
    {
     "data": {
      "text/plain": [
       "<pymongo.results.UpdateResult at 0x7fc5682d3e20>"
      ]
     },
     "execution_count": 95,
     "metadata": {},
     "output_type": "execute_result"
    }
   ],
   "source": [
    "# Change the data type from String to Decimal for longitude and latitude\n",
    "establishments.update_many(\n",
    "    {},\n",
    "    [{'$set': {\n",
    "            'latitude': {'$toDouble': '$latitude'},\n",
    "            'longitude' : {'$toDouble': '$longitude'}\n",
    "        }\n",
    "    }]\n",
    ")\n"
   ]
  },
  {
   "cell_type": "markdown",
   "id": "142e319c",
   "metadata": {},
   "source": [
    "Use `update_many` to convert `RatingValue` to integer numbers."
   ]
  },
  {
   "cell_type": "code",
   "execution_count": 96,
   "id": "04430a5b",
   "metadata": {},
   "outputs": [
    {
     "data": {
      "text/plain": [
       "<pymongo.results.UpdateResult at 0x7fc5682f2370>"
      ]
     },
     "execution_count": 96,
     "metadata": {},
     "output_type": "execute_result"
    }
   ],
   "source": [
    "# Set non 1-5 Rating Values to Null\n",
    "non_ratings = [\"AwaitingInspection\", \"Awaiting Inspection\", \"AwaitingPublication\", \"Pass\", \"Exempt\"]\n",
    "establishments.update_many({\"RatingValue\": {\"$in\": non_ratings}}, [ {'$set':{ \"RatingValue\" : None}} ])\n"
   ]
  },
  {
   "cell_type": "code",
   "execution_count": 97,
   "id": "92524ccc",
   "metadata": {},
   "outputs": [
    {
     "data": {
      "text/plain": [
       "<pymongo.results.UpdateResult at 0x7fc56946ca00>"
      ]
     },
     "execution_count": 97,
     "metadata": {},
     "output_type": "execute_result"
    }
   ],
   "source": [
    "# Change the data type from String to Integer for RatingValue\n",
    "establishments.update_many(\n",
    "    {},\n",
    "    [{'$set': {\n",
    "            'RatingValue': {'$toInt': '$RatingValue'}\n",
    "        }\n",
    "    }]\n",
    ")"
   ]
  },
  {
   "cell_type": "code",
   "execution_count": 106,
   "id": "0deacaf9",
   "metadata": {},
   "outputs": [
    {
     "data": {
      "text/plain": [
       "<pymongo.cursor.Cursor at 0x7fc56946c2b0>"
      ]
     },
     "execution_count": 106,
     "metadata": {},
     "output_type": "execute_result"
    }
   ],
   "source": [
    "# Check that the coordinates and rating value are now numbers\n",
    "establishments.find({ \"latitude\": { \"$type\": \"double\" } })"
   ]
  },
  {
   "cell_type": "code",
   "execution_count": 112,
   "id": "77814927",
   "metadata": {},
   "outputs": [
    {
     "name": "stdout",
     "output_type": "stream",
     "text": [
      "<pymongo.command_cursor.CommandCursor object at 0x7fc568b29d90>\n"
     ]
    }
   ],
   "source": [
    "establishments.aggregate(\n",
    "  [\n",
    "    {\n",
    "      '$project':\n",
    "        { \n",
    "          'latitude': { '$isNumber': \"$latitude\" },\n",
    "          'longitude': { '$isNumber': \"$longitude\" },\n",
    "          'RatingValue': { '$isNumber': \"$RatingValue\" }\n",
    "        }\n",
    "    }\n",
    "  ]\n",
    ")"
   ]
  },
  {
   "cell_type": "code",
   "execution_count": 116,
   "id": "05e8ba97",
   "metadata": {},
   "outputs": [
    {
     "data": {
      "text/plain": [
       "<pymongo.cursor.Cursor at 0x7fc568d8f9d0>"
      ]
     },
     "execution_count": 116,
     "metadata": {},
     "output_type": "execute_result"
    }
   ],
   "source": [
    "establishments.find({'latitude': {'$type': \"double\"}})"
   ]
  },
  {
   "cell_type": "code",
   "execution_count": null,
   "id": "d18bd1b1",
   "metadata": {},
   "outputs": [],
   "source": []
  }
 ],
 "metadata": {
  "kernelspec": {
   "display_name": "Python 3 (ipykernel)",
   "language": "python",
   "name": "python3"
  },
  "language_info": {
   "codemirror_mode": {
    "name": "ipython",
    "version": 3
   },
   "file_extension": ".py",
   "mimetype": "text/x-python",
   "name": "python",
   "nbconvert_exporter": "python",
   "pygments_lexer": "ipython3",
   "version": "3.10.9"
  }
 },
 "nbformat": 4,
 "nbformat_minor": 5
}
